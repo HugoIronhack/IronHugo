{
 "cells": [
  {
   "cell_type": "code",
   "execution_count": 1,
   "id": "56fc402c",
   "metadata": {},
   "outputs": [],
   "source": [
    "import pandas as pd\n",
    "import warnings\n",
    "warnings.filterwarnings('ignore')"
   ]
  },
  {
   "cell_type": "code",
   "execution_count": 2,
   "id": "7dbfbb93",
   "metadata": {},
   "outputs": [
    {
     "data": {
      "text/html": [
       "<div>\n",
       "<style scoped>\n",
       "    .dataframe tbody tr th:only-of-type {\n",
       "        vertical-align: middle;\n",
       "    }\n",
       "\n",
       "    .dataframe tbody tr th {\n",
       "        vertical-align: top;\n",
       "    }\n",
       "\n",
       "    .dataframe thead th {\n",
       "        text-align: right;\n",
       "    }\n",
       "</style>\n",
       "<table border=\"1\" class=\"dataframe\">\n",
       "  <thead>\n",
       "    <tr style=\"text-align: right;\">\n",
       "      <th></th>\n",
       "      <th>ID</th>\n",
       "      <th>Name</th>\n",
       "      <th>Age</th>\n",
       "      <th>OVA</th>\n",
       "      <th>Nationality</th>\n",
       "      <th>Club</th>\n",
       "      <th>BOV</th>\n",
       "      <th>BP</th>\n",
       "      <th>Position</th>\n",
       "      <th>Player Photo</th>\n",
       "      <th>...</th>\n",
       "      <th>CDM</th>\n",
       "      <th>RDM</th>\n",
       "      <th>RWB</th>\n",
       "      <th>LB</th>\n",
       "      <th>LCB</th>\n",
       "      <th>CB</th>\n",
       "      <th>RCB</th>\n",
       "      <th>RB</th>\n",
       "      <th>GK</th>\n",
       "      <th>Gender</th>\n",
       "    </tr>\n",
       "  </thead>\n",
       "  <tbody>\n",
       "    <tr>\n",
       "      <th>7284</th>\n",
       "      <td>222773</td>\n",
       "      <td>L. Zander</td>\n",
       "      <td>24</td>\n",
       "      <td>68</td>\n",
       "      <td>Germany</td>\n",
       "      <td>FC St. Pauli</td>\n",
       "      <td>68</td>\n",
       "      <td>RB</td>\n",
       "      <td>RB</td>\n",
       "      <td>https://cdn.sofifa.com/players/222/773/20_120.png</td>\n",
       "      <td>...</td>\n",
       "      <td>62+2</td>\n",
       "      <td>62+2</td>\n",
       "      <td>65+2</td>\n",
       "      <td>66+2</td>\n",
       "      <td>64+2</td>\n",
       "      <td>64+2</td>\n",
       "      <td>64+2</td>\n",
       "      <td>66+2</td>\n",
       "      <td>20+2</td>\n",
       "      <td>Male</td>\n",
       "    </tr>\n",
       "    <tr>\n",
       "      <th>12798</th>\n",
       "      <td>243790</td>\n",
       "      <td>Zhen'ao Wang</td>\n",
       "      <td>18</td>\n",
       "      <td>51</td>\n",
       "      <td>China PR</td>\n",
       "      <td>Vejle Boldklub</td>\n",
       "      <td>52</td>\n",
       "      <td>RW</td>\n",
       "      <td>RM LM</td>\n",
       "      <td>https://cdn.sofifa.com/players/243/790/19_120.png</td>\n",
       "      <td>...</td>\n",
       "      <td>33+1</td>\n",
       "      <td>33+1</td>\n",
       "      <td>40+1</td>\n",
       "      <td>38+1</td>\n",
       "      <td>31+1</td>\n",
       "      <td>31+1</td>\n",
       "      <td>31+1</td>\n",
       "      <td>38+1</td>\n",
       "      <td>11+1</td>\n",
       "      <td>Male</td>\n",
       "    </tr>\n",
       "    <tr>\n",
       "      <th>15506</th>\n",
       "      <td>253954</td>\n",
       "      <td>M. Amissi</td>\n",
       "      <td>19</td>\n",
       "      <td>62</td>\n",
       "      <td>Burundi</td>\n",
       "      <td>Heracles Almelo</td>\n",
       "      <td>63</td>\n",
       "      <td>RW</td>\n",
       "      <td>LM</td>\n",
       "      <td>https://cdn.sofifa.com/players/253/954/20_120.png</td>\n",
       "      <td>...</td>\n",
       "      <td>41+2</td>\n",
       "      <td>41+2</td>\n",
       "      <td>48+2</td>\n",
       "      <td>46+2</td>\n",
       "      <td>37+2</td>\n",
       "      <td>37+2</td>\n",
       "      <td>37+2</td>\n",
       "      <td>46+2</td>\n",
       "      <td>16+2</td>\n",
       "      <td>Male</td>\n",
       "    </tr>\n",
       "    <tr>\n",
       "      <th>10797</th>\n",
       "      <td>237331</td>\n",
       "      <td>T. De Smet</td>\n",
       "      <td>22</td>\n",
       "      <td>69</td>\n",
       "      <td>Belgium</td>\n",
       "      <td>Stade de Reims</td>\n",
       "      <td>69</td>\n",
       "      <td>LB</td>\n",
       "      <td>LB LM CB</td>\n",
       "      <td>https://cdn.sofifa.com/players/237/331/20_120.png</td>\n",
       "      <td>...</td>\n",
       "      <td>65+2</td>\n",
       "      <td>65+2</td>\n",
       "      <td>67+2</td>\n",
       "      <td>67+2</td>\n",
       "      <td>66+2</td>\n",
       "      <td>66+2</td>\n",
       "      <td>66+2</td>\n",
       "      <td>67+2</td>\n",
       "      <td>15+2</td>\n",
       "      <td>Male</td>\n",
       "    </tr>\n",
       "    <tr>\n",
       "      <th>4017</th>\n",
       "      <td>202477</td>\n",
       "      <td>Deulofeu</td>\n",
       "      <td>26</td>\n",
       "      <td>80</td>\n",
       "      <td>Spain</td>\n",
       "      <td>Watford</td>\n",
       "      <td>81</td>\n",
       "      <td>RW</td>\n",
       "      <td>LM CF</td>\n",
       "      <td>https://cdn.sofifa.com/players/202/477/20_120.png</td>\n",
       "      <td>...</td>\n",
       "      <td>55+3</td>\n",
       "      <td>55+3</td>\n",
       "      <td>59+3</td>\n",
       "      <td>54+3</td>\n",
       "      <td>44+3</td>\n",
       "      <td>44+3</td>\n",
       "      <td>44+3</td>\n",
       "      <td>54+3</td>\n",
       "      <td>19+3</td>\n",
       "      <td>Male</td>\n",
       "    </tr>\n",
       "  </tbody>\n",
       "</table>\n",
       "<p>5 rows × 107 columns</p>\n",
       "</div>"
      ],
      "text/plain": [
       "           ID          Name  Age  OVA Nationality             Club  BOV  BP  \\\n",
       "7284   222773     L. Zander   24   68     Germany     FC St. Pauli   68  RB   \n",
       "12798  243790  Zhen'ao Wang   18   51    China PR   Vejle Boldklub   52  RW   \n",
       "15506  253954     M. Amissi   19   62     Burundi  Heracles Almelo   63  RW   \n",
       "10797  237331    T. De Smet   22   69     Belgium   Stade de Reims   69  LB   \n",
       "4017   202477      Deulofeu   26   80       Spain          Watford   81  RW   \n",
       "\n",
       "       Position                                       Player Photo  ...   CDM  \\\n",
       "7284         RB  https://cdn.sofifa.com/players/222/773/20_120.png  ...  62+2   \n",
       "12798     RM LM  https://cdn.sofifa.com/players/243/790/19_120.png  ...  33+1   \n",
       "15506        LM  https://cdn.sofifa.com/players/253/954/20_120.png  ...  41+2   \n",
       "10797  LB LM CB  https://cdn.sofifa.com/players/237/331/20_120.png  ...  65+2   \n",
       "4017      LM CF  https://cdn.sofifa.com/players/202/477/20_120.png  ...  55+3   \n",
       "\n",
       "        RDM   RWB    LB   LCB    CB   RCB    RB    GK Gender  \n",
       "7284   62+2  65+2  66+2  64+2  64+2  64+2  66+2  20+2   Male  \n",
       "12798  33+1  40+1  38+1  31+1  31+1  31+1  38+1  11+1   Male  \n",
       "15506  41+2  48+2  46+2  37+2  37+2  37+2  46+2  16+2   Male  \n",
       "10797  65+2  67+2  67+2  66+2  66+2  66+2  67+2  15+2   Male  \n",
       "4017   55+3  59+3  54+3  44+3  44+3  44+3  54+3  19+3   Male  \n",
       "\n",
       "[5 rows x 107 columns]"
      ]
     },
     "execution_count": 2,
     "metadata": {},
     "output_type": "execute_result"
    }
   ],
   "source": [
    "data = pd.read_csv('fifa21_male2.csv')\n",
    "data.sample(5)"
   ]
  },
  {
   "cell_type": "code",
   "execution_count": 3,
   "id": "ef8f73fe",
   "metadata": {},
   "outputs": [
    {
     "data": {
      "text/plain": [
       "(17125, 107)"
      ]
     },
     "execution_count": 3,
     "metadata": {},
     "output_type": "execute_result"
    }
   ],
   "source": [
    "data.shape"
   ]
  },
  {
   "cell_type": "code",
   "execution_count": 4,
   "id": "fac6b0f9",
   "metadata": {},
   "outputs": [
    {
     "data": {
      "text/plain": [
       "Index(['ID', 'Name', 'Age', 'OVA', 'Nationality', 'Club', 'BOV', 'BP',\n",
       "       'Position', 'Player Photo',\n",
       "       ...\n",
       "       'CDM', 'RDM', 'RWB', 'LB', 'LCB', 'CB', 'RCB', 'RB', 'GK', 'Gender'],\n",
       "      dtype='object', length=107)"
      ]
     },
     "execution_count": 4,
     "metadata": {},
     "output_type": "execute_result"
    }
   ],
   "source": [
    "data.columns"
   ]
  },
  {
   "cell_type": "code",
   "execution_count": 5,
   "id": "b5c4f4c6",
   "metadata": {},
   "outputs": [
    {
     "name": "stdout",
     "output_type": "stream",
     "text": [
      "<class 'pandas.core.frame.DataFrame'>\n",
      "RangeIndex: 17125 entries, 0 to 17124\n",
      "Columns: 107 entries, ID to Gender\n",
      "dtypes: float64(10), int64(45), object(52)\n",
      "memory usage: 14.0+ MB\n"
     ]
    }
   ],
   "source": [
    "data.info()"
   ]
  },
  {
   "cell_type": "code",
   "execution_count": 6,
   "id": "56ff9393",
   "metadata": {},
   "outputs": [
    {
     "data": {
      "text/plain": [
       "ID              int64\n",
       "Name           object\n",
       "Age             int64\n",
       "OVA             int64\n",
       "Nationality    object\n",
       "                ...  \n",
       "CB             object\n",
       "RCB            object\n",
       "RB             object\n",
       "GK             object\n",
       "Gender         object\n",
       "Length: 107, dtype: object"
      ]
     },
     "execution_count": 6,
     "metadata": {},
     "output_type": "execute_result"
    }
   ],
   "source": [
    "data.dtypes"
   ]
  },
  {
   "cell_type": "code",
   "execution_count": 7,
   "id": "dd22f7f1",
   "metadata": {},
   "outputs": [],
   "source": [
    "new_data = data.copy()"
   ]
  },
  {
   "cell_type": "code",
   "execution_count": 8,
   "id": "05260315",
   "metadata": {},
   "outputs": [
    {
     "name": "stdout",
     "output_type": "stream",
     "text": [
      "<class 'pandas.core.frame.DataFrame'>\n",
      "RangeIndex: 17125 entries, 0 to 17124\n",
      "Columns: 107 entries, ID to Gender\n",
      "dtypes: float64(10), int64(45), object(52)\n",
      "memory usage: 14.0+ MB\n"
     ]
    }
   ],
   "source": [
    "new_data.info()"
   ]
  },
  {
   "cell_type": "code",
   "execution_count": null,
   "id": "36abf768",
   "metadata": {},
   "outputs": [],
   "source": []
  }
 ],
 "metadata": {
  "kernelspec": {
   "display_name": "Python 3 (ipykernel)",
   "language": "python",
   "name": "python3"
  },
  "language_info": {
   "codemirror_mode": {
    "name": "ipython",
    "version": 3
   },
   "file_extension": ".py",
   "mimetype": "text/x-python",
   "name": "python",
   "nbconvert_exporter": "python",
   "pygments_lexer": "ipython3",
   "version": "3.9.13"
  }
 },
 "nbformat": 4,
 "nbformat_minor": 5
}
