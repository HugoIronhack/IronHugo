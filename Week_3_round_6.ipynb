{
 "cells": [
  {
   "cell_type": "code",
   "execution_count": 2,
   "id": "1f1d11d1",
   "metadata": {},
   "outputs": [],
   "source": [
    "import pandas as pd # data manipulation and analysis.\n",
    "import numpy as np # mathematical operations\n",
    "import matplotlib.pyplot as plt # plots visualizations\n",
    "import seaborn as sns # HD plots graphics based on matplot\n",
    "import scipy.stats as stats # statistical functions\n",
    "from sklearn.preprocessing import OneHotEncoder # oneHotEncoder\n",
    "from sklearn.preprocessing import MinMaxScaler # To normalize the data\n",
    "from sklearn.model_selection import train_test_split\n",
    "from sklearn import linear_model # Linear regression model\n",
    "from sklearn.linear_model import LinearRegression\n",
    "from sklearn.metrics import mean_squared_error, r2_score # test the Machine Learning model\n",
    "import warnings # Lastly... no more warnings... HURRAY !!!!\n",
    "warnings.filterwarnings('ignore')"
   ]
  },
  {
   "cell_type": "code",
   "execution_count": 3,
   "id": "8eb201a8",
   "metadata": {},
   "outputs": [],
   "source": [
    "# Define functions:\n",
    "\n",
    "def explore_data():\n",
    "    print(\"The dataframe shape is\", data.shape, \".\")\n",
    "    print(\" \")\n",
    "    print(\"The dataframe columns are:\")\n",
    "    print(data.columns)\n",
    "    print(\" \")\n",
    "    print(\"The dataframe data types are:\")\n",
    "    print(data.dtypes)\n",
    "\n",
    "def cc(): # cleaning columns\n",
    "    data.columns = cc = [column.lower().replace(' ', '_') for column in data] # standarizing the columns\n",
    "    print(data.columns)\n",
    "    print()"
   ]
  },
  {
   "cell_type": "code",
   "execution_count": null,
   "id": "32e2a1c8",
   "metadata": {},
   "outputs": [],
   "source": [
    "#reading data\n",
    "data = pd.read_csv('marketing_customer_analysis.csv') # Opening the Data\n",
    "data.sample(5) # random sample"
   ]
  },
  {
   "cell_type": "code",
   "execution_count": null,
   "id": "6f4005aa",
   "metadata": {},
   "outputs": [],
   "source": [
    "#exploring data\n",
    "explore_data() # First impression of our data"
   ]
  },
  {
   "cell_type": "code",
   "execution_count": null,
   "id": "e0bb9972",
   "metadata": {},
   "outputs": [],
   "source": [
    "#cleaning data\n",
    "cc()"
   ]
  },
  {
   "cell_type": "code",
   "execution_count": null,
   "id": "d9e17de3",
   "metadata": {},
   "outputs": [],
   "source": [
    "# Before doing the split, droping the \"customer\" column \n",
    "data_test = data.copy()\n",
    "data_test = data_test.drop([\"customer\",\"effective_to_date\"], axis = 1)\n",
    "data_test.sample(5)"
   ]
  },
  {
   "cell_type": "code",
   "execution_count": null,
   "id": "4e07b52a",
   "metadata": {},
   "outputs": [],
   "source": [
    "\n",
    "print(\"The following columns are numerical\")\n",
    "X_num = data_test.select_dtypes(include= np.number).fillna(0) # We also deal with NaN values\n",
    "print(X_num.columns)\n",
    "print()\n",
    "print(\"The following columns are categorical\")\n",
    "X_cat = data_test.select_dtypes(exclude=np.number).fillna(\"\")\n",
    "print(X_cat.columns)\n",
    "\n",
    "data.sample(10) "
   ]
  },
  {
   "cell_type": "code",
   "execution_count": null,
   "id": "8f58cb4f",
   "metadata": {},
   "outputs": [],
   "source": [
    "#processing data X Y Split\n",
    "\n",
    "Y = data_test['total_claim_amount'] # We store the target of our analysis in Y\n",
    "X = data_test.drop(['total_claim_amount'], axis=1) # And then, we store all features in X (excluding the target)\n"
   ]
  },
  {
   "cell_type": "code",
   "execution_count": null,
   "id": "41117811",
   "metadata": {},
   "outputs": [],
   "source": [
    "#normalize\n",
    "transformer = MinMaxScaler().fit(X_num) # We use it to normalize\n",
    "x_minmax = transformer.transform(X_num)\n",
    "print(\"X_MinMax Shape is:\", x_minmax.shape)"
   ]
  },
  {
   "cell_type": "code",
   "execution_count": null,
   "id": "3926c413",
   "metadata": {},
   "outputs": [],
   "source": [
    "# convertion in a DataFrame\n",
    "num_norm = pd.DataFrame(x_minmax, columns=X_num.columns) # Selecting x_num.columns for our columns\n",
    "num_norm.sample(5)"
   ]
  },
  {
   "cell_type": "code",
   "execution_count": null,
   "id": "16e185bc",
   "metadata": {},
   "outputs": [],
   "source": [
    "sns.displot(num_norm)"
   ]
  },
  {
   "cell_type": "code",
   "execution_count": null,
   "id": "2254d7f6",
   "metadata": {},
   "outputs": [],
   "source": [
    "#preprocessing\n",
    "X_dumm = pd.get_dummies(X_cat, drop_first=False) # You can put X, not separating variables is needed.\n",
    "X_dumm"
   ]
  },
  {
   "cell_type": "code",
   "execution_count": null,
   "id": "80211f69",
   "metadata": {},
   "outputs": [],
   "source": [
    "# Concat (One-Hot encoder)\n",
    "X_concat = pd.concat([X_num, X_dumm], axis=1)\n",
    "X_concat.sample(5)"
   ]
  },
  {
   "cell_type": "code",
   "execution_count": null,
   "id": "409cc32d",
   "metadata": {},
   "outputs": [],
   "source": [
    "#linear regression\n",
    "\n",
    "# We define train and test for X and Y\n",
    "X_train, X_test, y_train, y_test = train_test_split(X_dumm, Y, test_size=0.3, random_state=42) \n",
    "# test_size = We give 30% for testing and 70% for testing\n",
    "# random_state = it'll improve the model to divide always the model in the same way"
   ]
  },
  {
   "cell_type": "code",
   "execution_count": null,
   "id": "1d061ccc",
   "metadata": {},
   "outputs": [],
   "source": [
    "len(X_dumm)*0.7 # Len before the test"
   ]
  },
  {
   "cell_type": "code",
   "execution_count": null,
   "id": "980d7523",
   "metadata": {},
   "outputs": [],
   "source": [
    "len(X_test) # Len after the test"
   ]
  },
  {
   "cell_type": "code",
   "execution_count": null,
   "id": "46a2e257",
   "metadata": {},
   "outputs": [],
   "source": [
    "#linear regression\n",
    "\n",
    "model = LinearRegression() # We have the model\n",
    "model.fit(X_train,y_train) # We fit the training data into the model"
   ]
  },
  {
   "cell_type": "code",
   "execution_count": null,
   "id": "642e45be",
   "metadata": {},
   "outputs": [],
   "source": [
    "#model validation\n",
    "predictions = model.predict(X_test)\n",
    "predictions # An array of predictions"
   ]
  },
  {
   "cell_type": "code",
   "execution_count": null,
   "id": "84131ac0",
   "metadata": {},
   "outputs": [],
   "source": [
    "predictions # An array of predictions"
   ]
  },
  {
   "cell_type": "code",
   "execution_count": null,
   "id": "fb59d910",
   "metadata": {},
   "outputs": [],
   "source": [
    "y_test"
   ]
  },
  {
   "cell_type": "code",
   "execution_count": null,
   "id": "7c6cea32",
   "metadata": {},
   "outputs": [],
   "source": [
    "r2_score(y_test, predictions), mean_squared_error(y_test, predictions, squared=False), mean_squared_error(y_test, predictions)\n"
   ]
  },
  {
   "cell_type": "code",
   "execution_count": null,
   "id": "84c7c86a",
   "metadata": {},
   "outputs": [],
   "source": [
    "r2 = r2_score(y_test, predictions)\n",
    "RMSE = mean_squared_error(y_test, predictions, squared=False)\n",
    "MSE = mean_squared_error(y_test, predictions)\n",
    "\n",
    "# ~ Ty Andre for this ! #https://stackoverflow.com/questions/51023806/how-to-get-adjusted-r-square-for-linear-regression\n",
    "adj_r2 = (1 - (1 - r2) * ((X_concat.shape[0] - 1) / \n",
    "          (X_concat.shape[0] - X_concat.shape[1] - 1)))\n",
    "print(\"r2 = \", r2)\n",
    "print(\"RMSE = \", RMSE)\n",
    "print(\"MSE = \", MSE)\n",
    "print(\"Adj r2 = \", adj_r2)"
   ]
  },
  {
   "cell_type": "code",
   "execution_count": null,
   "id": "902cafbd",
   "metadata": {},
   "outputs": [],
   "source": [
    "# r2 is close to 1, that's good\n",
    "# RMSE = 114. We will compare it with our target:\n",
    "data['total_claim_amount'].describe()"
   ]
  }
 ],
 "metadata": {
  "kernelspec": {
   "display_name": "Python 3 (ipykernel)",
   "language": "python",
   "name": "python3"
  },
  "language_info": {
   "codemirror_mode": {
    "name": "ipython",
    "version": 3
   },
   "file_extension": ".py",
   "mimetype": "text/x-python",
   "name": "python",
   "nbconvert_exporter": "python",
   "pygments_lexer": "ipython3",
   "version": "3.9.13"
  }
 },
 "nbformat": 4,
 "nbformat_minor": 5
}
