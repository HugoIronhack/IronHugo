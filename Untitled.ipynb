{
 "cells": [
  {
   "cell_type": "code",
   "execution_count": 1,
   "id": "b42d4ec5",
   "metadata": {},
   "outputs": [],
   "source": [
    "import pandas as pd\n",
    "import warnings\n",
    "warnings.filterwarnings('ignore')"
   ]
  },
  {
   "cell_type": "code",
   "execution_count": 2,
   "id": "3ce74d61",
   "metadata": {},
   "outputs": [
    {
     "data": {
      "text/html": [
       "<div>\n",
       "<style scoped>\n",
       "    .dataframe tbody tr th:only-of-type {\n",
       "        vertical-align: middle;\n",
       "    }\n",
       "\n",
       "    .dataframe tbody tr th {\n",
       "        vertical-align: top;\n",
       "    }\n",
       "\n",
       "    .dataframe thead th {\n",
       "        text-align: right;\n",
       "    }\n",
       "</style>\n",
       "<table border=\"1\" class=\"dataframe\">\n",
       "  <thead>\n",
       "    <tr style=\"text-align: right;\">\n",
       "      <th></th>\n",
       "      <th>ID</th>\n",
       "      <th>Name</th>\n",
       "      <th>Age</th>\n",
       "      <th>OVA</th>\n",
       "      <th>Nationality</th>\n",
       "      <th>Club</th>\n",
       "      <th>BOV</th>\n",
       "      <th>BP</th>\n",
       "      <th>Position</th>\n",
       "      <th>Player Photo</th>\n",
       "      <th>...</th>\n",
       "      <th>CDM</th>\n",
       "      <th>RDM</th>\n",
       "      <th>RWB</th>\n",
       "      <th>LB</th>\n",
       "      <th>LCB</th>\n",
       "      <th>CB</th>\n",
       "      <th>RCB</th>\n",
       "      <th>RB</th>\n",
       "      <th>GK</th>\n",
       "      <th>Gender</th>\n",
       "    </tr>\n",
       "  </thead>\n",
       "  <tbody>\n",
       "    <tr>\n",
       "      <th>5604</th>\n",
       "      <td>212106</td>\n",
       "      <td>D. Connolly</td>\n",
       "      <td>25</td>\n",
       "      <td>64</td>\n",
       "      <td>Republic of Ireland</td>\n",
       "      <td>St. Mirren</td>\n",
       "      <td>64</td>\n",
       "      <td>RM</td>\n",
       "      <td>RM LM ST</td>\n",
       "      <td>https://cdn.sofifa.com/players/212/106/20_120.png</td>\n",
       "      <td>...</td>\n",
       "      <td>45+2</td>\n",
       "      <td>45+2</td>\n",
       "      <td>49+2</td>\n",
       "      <td>47+2</td>\n",
       "      <td>41+2</td>\n",
       "      <td>41+2</td>\n",
       "      <td>41+2</td>\n",
       "      <td>47+2</td>\n",
       "      <td>17+2</td>\n",
       "      <td>Male</td>\n",
       "    </tr>\n",
       "    <tr>\n",
       "      <th>4725</th>\n",
       "      <td>206409</td>\n",
       "      <td>T. Marsh</td>\n",
       "      <td>26</td>\n",
       "      <td>61</td>\n",
       "      <td>England</td>\n",
       "      <td>Stevenage</td>\n",
       "      <td>61</td>\n",
       "      <td>LM</td>\n",
       "      <td>LM ST</td>\n",
       "      <td>https://cdn.sofifa.com/players/206/409/20_120.png</td>\n",
       "      <td>...</td>\n",
       "      <td>46+2</td>\n",
       "      <td>46+2</td>\n",
       "      <td>50+2</td>\n",
       "      <td>48+2</td>\n",
       "      <td>43+2</td>\n",
       "      <td>43+2</td>\n",
       "      <td>43+2</td>\n",
       "      <td>48+2</td>\n",
       "      <td>16+2</td>\n",
       "      <td>Male</td>\n",
       "    </tr>\n",
       "    <tr>\n",
       "      <th>3253</th>\n",
       "      <td>197813</td>\n",
       "      <td>J. Martin</td>\n",
       "      <td>30</td>\n",
       "      <td>73</td>\n",
       "      <td>France</td>\n",
       "      <td>Stade Rennais FC</td>\n",
       "      <td>73</td>\n",
       "      <td>CM</td>\n",
       "      <td>CM</td>\n",
       "      <td>https://cdn.sofifa.com/players/197/813/20_120.png</td>\n",
       "      <td>...</td>\n",
       "      <td>71+2</td>\n",
       "      <td>71+2</td>\n",
       "      <td>68+2</td>\n",
       "      <td>67+2</td>\n",
       "      <td>67+2</td>\n",
       "      <td>67+2</td>\n",
       "      <td>67+2</td>\n",
       "      <td>67+2</td>\n",
       "      <td>17+2</td>\n",
       "      <td>Male</td>\n",
       "    </tr>\n",
       "    <tr>\n",
       "      <th>6416</th>\n",
       "      <td>216381</td>\n",
       "      <td>J. Zimmer</td>\n",
       "      <td>26</td>\n",
       "      <td>72</td>\n",
       "      <td>Germany</td>\n",
       "      <td>Fortuna Düsseldorf</td>\n",
       "      <td>73</td>\n",
       "      <td>RWB</td>\n",
       "      <td>RB RM RWB</td>\n",
       "      <td>https://cdn.sofifa.com/players/216/381/20_120.png</td>\n",
       "      <td>...</td>\n",
       "      <td>68+2</td>\n",
       "      <td>68+2</td>\n",
       "      <td>72+1</td>\n",
       "      <td>70+2</td>\n",
       "      <td>66+2</td>\n",
       "      <td>66+2</td>\n",
       "      <td>66+2</td>\n",
       "      <td>70+2</td>\n",
       "      <td>18+2</td>\n",
       "      <td>Male</td>\n",
       "    </tr>\n",
       "    <tr>\n",
       "      <th>2328</th>\n",
       "      <td>188938</td>\n",
       "      <td>C. Álvarez</td>\n",
       "      <td>34</td>\n",
       "      <td>75</td>\n",
       "      <td>Argentina</td>\n",
       "      <td>Real Zaragoza</td>\n",
       "      <td>75</td>\n",
       "      <td>GK</td>\n",
       "      <td>GK</td>\n",
       "      <td>https://cdn.sofifa.com/players/188/938/20_120.png</td>\n",
       "      <td>...</td>\n",
       "      <td>27+2</td>\n",
       "      <td>27+2</td>\n",
       "      <td>26+2</td>\n",
       "      <td>26+2</td>\n",
       "      <td>26+2</td>\n",
       "      <td>26+2</td>\n",
       "      <td>26+2</td>\n",
       "      <td>26+2</td>\n",
       "      <td>74+1</td>\n",
       "      <td>Male</td>\n",
       "    </tr>\n",
       "  </tbody>\n",
       "</table>\n",
       "<p>5 rows × 107 columns</p>\n",
       "</div>"
      ],
      "text/plain": [
       "          ID         Name  Age  OVA          Nationality                Club  \\\n",
       "5604  212106  D. Connolly   25   64  Republic of Ireland          St. Mirren   \n",
       "4725  206409     T. Marsh   26   61              England           Stevenage   \n",
       "3253  197813    J. Martin   30   73               France    Stade Rennais FC   \n",
       "6416  216381    J. Zimmer   26   72              Germany  Fortuna Düsseldorf   \n",
       "2328  188938   C. Álvarez   34   75            Argentina       Real Zaragoza   \n",
       "\n",
       "      BOV   BP   Position                                       Player Photo  \\\n",
       "5604   64   RM   RM LM ST  https://cdn.sofifa.com/players/212/106/20_120.png   \n",
       "4725   61   LM      LM ST  https://cdn.sofifa.com/players/206/409/20_120.png   \n",
       "3253   73   CM         CM  https://cdn.sofifa.com/players/197/813/20_120.png   \n",
       "6416   73  RWB  RB RM RWB  https://cdn.sofifa.com/players/216/381/20_120.png   \n",
       "2328   75   GK         GK  https://cdn.sofifa.com/players/188/938/20_120.png   \n",
       "\n",
       "      ...   CDM   RDM   RWB    LB   LCB    CB   RCB    RB    GK Gender  \n",
       "5604  ...  45+2  45+2  49+2  47+2  41+2  41+2  41+2  47+2  17+2   Male  \n",
       "4725  ...  46+2  46+2  50+2  48+2  43+2  43+2  43+2  48+2  16+2   Male  \n",
       "3253  ...  71+2  71+2  68+2  67+2  67+2  67+2  67+2  67+2  17+2   Male  \n",
       "6416  ...  68+2  68+2  72+1  70+2  66+2  66+2  66+2  70+2  18+2   Male  \n",
       "2328  ...  27+2  27+2  26+2  26+2  26+2  26+2  26+2  26+2  74+1   Male  \n",
       "\n",
       "[5 rows x 107 columns]"
      ]
     },
     "execution_count": 2,
     "metadata": {},
     "output_type": "execute_result"
    }
   ],
   "source": [
    "data = pd.read_csv('fifa21_male2.csv')\n",
    "data.sample(5)"
   ]
  },
  {
   "cell_type": "code",
   "execution_count": 3,
   "id": "c4098207",
   "metadata": {},
   "outputs": [
    {
     "data": {
      "text/plain": [
       "(17125, 107)"
      ]
     },
     "execution_count": 3,
     "metadata": {},
     "output_type": "execute_result"
    }
   ],
   "source": [
    "data.shape"
   ]
  },
  {
   "cell_type": "code",
   "execution_count": 4,
   "id": "e824cbc3",
   "metadata": {},
   "outputs": [
    {
     "data": {
      "text/plain": [
       "Index(['ID', 'Name', 'Age', 'OVA', 'Nationality', 'Club', 'BOV', 'BP',\n",
       "       'Position', 'Player Photo',\n",
       "       ...\n",
       "       'CDM', 'RDM', 'RWB', 'LB', 'LCB', 'CB', 'RCB', 'RB', 'GK', 'Gender'],\n",
       "      dtype='object', length=107)"
      ]
     },
     "execution_count": 4,
     "metadata": {},
     "output_type": "execute_result"
    }
   ],
   "source": [
    "data.columns"
   ]
  },
  {
   "cell_type": "code",
   "execution_count": 7,
   "id": "64bad616",
   "metadata": {},
   "outputs": [
    {
     "name": "stdout",
     "output_type": "stream",
     "text": [
      "<class 'pandas.core.frame.DataFrame'>\n",
      "RangeIndex: 17125 entries, 0 to 17124\n",
      "Columns: 107 entries, ID to Gender\n",
      "dtypes: float64(10), int64(45), object(52)\n",
      "memory usage: 14.0+ MB\n"
     ]
    }
   ],
   "source": [
    "data.info()"
   ]
  },
  {
   "cell_type": "code",
   "execution_count": 8,
   "id": "4081cac0",
   "metadata": {},
   "outputs": [
    {
     "data": {
      "text/plain": [
       "ID              int64\n",
       "Name           object\n",
       "Age             int64\n",
       "OVA             int64\n",
       "Nationality    object\n",
       "                ...  \n",
       "CB             object\n",
       "RCB            object\n",
       "RB             object\n",
       "GK             object\n",
       "Gender         object\n",
       "Length: 107, dtype: object"
      ]
     },
     "execution_count": 8,
     "metadata": {},
     "output_type": "execute_result"
    }
   ],
   "source": [
    "data.dtypes"
   ]
  },
  {
   "cell_type": "code",
   "execution_count": 11,
   "id": "e46bb0a1",
   "metadata": {},
   "outputs": [],
   "source": [
    "new_data = data.copy()"
   ]
  },
  {
   "cell_type": "code",
   "execution_count": 12,
   "id": "beab8e7c",
   "metadata": {},
   "outputs": [
    {
     "name": "stdout",
     "output_type": "stream",
     "text": [
      "<class 'pandas.core.frame.DataFrame'>\n",
      "RangeIndex: 17125 entries, 0 to 17124\n",
      "Columns: 107 entries, ID to Gender\n",
      "dtypes: float64(10), int64(45), object(52)\n",
      "memory usage: 14.0+ MB\n"
     ]
    }
   ],
   "source": [
    "new_data.info()"
   ]
  },
  {
   "cell_type": "code",
   "execution_count": null,
   "id": "82225b93",
   "metadata": {},
   "outputs": [],
   "source": []
  }
 ],
 "metadata": {
  "kernelspec": {
   "display_name": "Python 3 (ipykernel)",
   "language": "python",
   "name": "python3"
  },
  "language_info": {
   "codemirror_mode": {
    "name": "ipython",
    "version": 3
   },
   "file_extension": ".py",
   "mimetype": "text/x-python",
   "name": "python",
   "nbconvert_exporter": "python",
   "pygments_lexer": "ipython3",
   "version": "3.9.13"
  }
 },
 "nbformat": 4,
 "nbformat_minor": 5
}
